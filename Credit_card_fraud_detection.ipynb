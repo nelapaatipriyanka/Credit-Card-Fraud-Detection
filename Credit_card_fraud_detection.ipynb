{
  "cells": [
    {
      "cell_type": "code",
      "execution_count": 1,
      "metadata": {
        "id": "5Hn6AyfszDRh"
      },
      "outputs": [],
      "source": [
        "!pip install -q kaggle"
      ]
    },
    {
      "cell_type": "code",
      "execution_count": 2,
      "metadata": {
        "id": "eR2MjGp6zFu5"
      },
      "outputs": [],
      "source": [
        "!mkdir ~/.kaggle\n"
      ]
    },
    {
      "cell_type": "code",
      "execution_count": 3,
      "metadata": {
        "id": "EHV4HplEzxuB"
      },
      "outputs": [],
      "source": [
        "ls~/.kaggle"
      ]
    },
    {
      "cell_type": "code",
      "execution_count": 4,
      "metadata": {
        "id": "EMUypwwS0BsL",
        "colab": {
          "base_uri": "https://localhost:8080/"
        },
        "outputId": "0652645d-dd04-4272-b40d-1d368dd5a021"
      },
      "outputs": [
        {
          "output_type": "stream",
          "name": "stdout",
          "text": [
            "Traceback (most recent call last):\n",
            "  File \"/usr/local/bin/kaggle\", line 10, in <module>\n",
            "    sys.exit(main())\n",
            "             ^^^^^^\n",
            "  File \"/usr/local/lib/python3.11/dist-packages/kaggle/cli.py\", line 68, in main\n",
            "    out = args.func(**command_args)\n",
            "          ^^^^^^^^^^^^^^^^^^^^^^^^^\n",
            "  File \"/usr/local/lib/python3.11/dist-packages/kaggle/api/kaggle_api_extended.py\", line 1741, in dataset_download_cli\n",
            "    with self.build_kaggle_client() as kaggle:\n",
            "         ^^^^^^^^^^^^^^^^^^^^^^^^^^\n",
            "  File \"/usr/local/lib/python3.11/dist-packages/kaggle/api/kaggle_api_extended.py\", line 688, in build_kaggle_client\n",
            "    username=self.config_values['username'],\n",
            "             ~~~~~~~~~~~~~~~~~~^^^^^^^^^^^^\n",
            "KeyError: 'username'\n"
          ]
        }
      ],
      "source": [
        "!kaggle datasets download -d kalyankaparaju01/credit-card-fraud-detection-dataset"
      ]
    },
    {
      "cell_type": "code",
      "execution_count": 5,
      "metadata": {
        "id": "th-SFXeY0HZz",
        "outputId": "1d4b1dec-9869-4d23-dfe3-37b9ce93b12c",
        "colab": {
          "base_uri": "https://localhost:8080/",
          "height": 315
        }
      },
      "outputs": [
        {
          "output_type": "error",
          "ename": "FileNotFoundError",
          "evalue": "[Errno 2] No such file or directory: 'credit-card-fraud-detection-dataset.zip'",
          "traceback": [
            "\u001b[0;31m---------------------------------------------------------------------------\u001b[0m",
            "\u001b[0;31mFileNotFoundError\u001b[0m                         Traceback (most recent call last)",
            "\u001b[0;32m/tmp/ipython-input-5-2708078329.py\u001b[0m in \u001b[0;36m<cell line: 0>\u001b[0;34m()\u001b[0m\n\u001b[1;32m      1\u001b[0m \u001b[0;32mimport\u001b[0m \u001b[0mzipfile\u001b[0m\u001b[0;34m\u001b[0m\u001b[0;34m\u001b[0m\u001b[0m\n\u001b[0;32m----> 2\u001b[0;31m \u001b[0;32mwith\u001b[0m \u001b[0mzipfile\u001b[0m\u001b[0;34m.\u001b[0m\u001b[0mZipFile\u001b[0m\u001b[0;34m(\u001b[0m\u001b[0;34m\"credit-card-fraud-detection-dataset.zip\"\u001b[0m\u001b[0;34m,\u001b[0m\u001b[0;34m\"r\"\u001b[0m\u001b[0;34m)\u001b[0m \u001b[0;32mas\u001b[0m \u001b[0mfile\u001b[0m\u001b[0;34m:\u001b[0m\u001b[0;34m\u001b[0m\u001b[0;34m\u001b[0m\u001b[0m\n\u001b[0m\u001b[1;32m      3\u001b[0m     \u001b[0mfile\u001b[0m\u001b[0;34m.\u001b[0m\u001b[0mextractall\u001b[0m\u001b[0;34m(\u001b[0m\u001b[0;34m)\u001b[0m\u001b[0;34m\u001b[0m\u001b[0;34m\u001b[0m\u001b[0m\n",
            "\u001b[0;32m/usr/lib/python3.11/zipfile.py\u001b[0m in \u001b[0;36m__init__\u001b[0;34m(self, file, mode, compression, allowZip64, compresslevel, strict_timestamps, metadata_encoding)\u001b[0m\n\u001b[1;32m   1293\u001b[0m             \u001b[0;32mwhile\u001b[0m \u001b[0;32mTrue\u001b[0m\u001b[0;34m:\u001b[0m\u001b[0;34m\u001b[0m\u001b[0;34m\u001b[0m\u001b[0m\n\u001b[1;32m   1294\u001b[0m                 \u001b[0;32mtry\u001b[0m\u001b[0;34m:\u001b[0m\u001b[0;34m\u001b[0m\u001b[0;34m\u001b[0m\u001b[0m\n\u001b[0;32m-> 1295\u001b[0;31m                     \u001b[0mself\u001b[0m\u001b[0;34m.\u001b[0m\u001b[0mfp\u001b[0m \u001b[0;34m=\u001b[0m \u001b[0mio\u001b[0m\u001b[0;34m.\u001b[0m\u001b[0mopen\u001b[0m\u001b[0;34m(\u001b[0m\u001b[0mfile\u001b[0m\u001b[0;34m,\u001b[0m \u001b[0mfilemode\u001b[0m\u001b[0;34m)\u001b[0m\u001b[0;34m\u001b[0m\u001b[0;34m\u001b[0m\u001b[0m\n\u001b[0m\u001b[1;32m   1296\u001b[0m                 \u001b[0;32mexcept\u001b[0m \u001b[0mOSError\u001b[0m\u001b[0;34m:\u001b[0m\u001b[0;34m\u001b[0m\u001b[0;34m\u001b[0m\u001b[0m\n\u001b[1;32m   1297\u001b[0m                     \u001b[0;32mif\u001b[0m \u001b[0mfilemode\u001b[0m \u001b[0;32min\u001b[0m \u001b[0mmodeDict\u001b[0m\u001b[0;34m:\u001b[0m\u001b[0;34m\u001b[0m\u001b[0;34m\u001b[0m\u001b[0m\n",
            "\u001b[0;31mFileNotFoundError\u001b[0m: [Errno 2] No such file or directory: 'credit-card-fraud-detection-dataset.zip'"
          ]
        }
      ],
      "source": [
        "import zipfile\n",
        "with zipfile.ZipFile(\"credit-card-fraud-detection-dataset.zip\",\"r\") as file:\n",
        "    file.extractall()"
      ]
    },
    {
      "cell_type": "code",
      "execution_count": null,
      "metadata": {
        "id": "kKGrd8qn0LQr"
      },
      "outputs": [],
      "source": [
        "%pip install seaborn"
      ]
    },
    {
      "cell_type": "code",
      "execution_count": null,
      "metadata": {
        "id": "arkVSr8I0Vle"
      },
      "outputs": [],
      "source": [
        "%pip install matplotlib"
      ]
    },
    {
      "cell_type": "code",
      "execution_count": null,
      "metadata": {
        "id": "yrkf47Lf0anx"
      },
      "outputs": [],
      "source": [
        "import pandas as pd\n",
        "import numpy as np\n",
        "import seaborn as sns\n",
        "import matplotlib.pyplot as plt\n",
        "%matplotlib inline"
      ]
    },
    {
      "cell_type": "code",
      "execution_count": null,
      "metadata": {
        "id": "If6qNPE80iwc"
      },
      "outputs": [],
      "source": [
        "from sklearn.model_selection import train_test_split\n",
        "from sklearn.model_selection import StratifiedKFold\n",
        "from sklearn.preprocessing import StandardScaler\n",
        "import scipy.stats as stats\n",
        "from sklearn.model_selection import GridSearchCV"
      ]
    },
    {
      "cell_type": "code",
      "execution_count": null,
      "metadata": {
        "id": "V8YgB0lF1KF7"
      },
      "outputs": [],
      "source": [
        "# Model Evaluation Modules\n",
        "from sklearn.model_selection import cross_val_score\n",
        "from sklearn import metrics\n",
        "from sklearn.metrics import confusion_matrix, classification_report\n",
        "from sklearn.metrics import precision_score, accuracy_score, f1_score, r2_score\n",
        "from sklearn.metrics import precision_recall_curve, roc_curve\n",
        "from sklearn.metrics import recall_score"
      ]
    },
    {
      "cell_type": "code",
      "execution_count": null,
      "metadata": {
        "id": "0LThZdoI1PM_"
      },
      "outputs": [],
      "source": [
        "df = pd.read_csv('fraudTrain.csv')\n",
        "df.head()"
      ]
    },
    {
      "cell_type": "code",
      "execution_count": null,
      "metadata": {
        "id": "worN41qY1Tfd"
      },
      "outputs": [],
      "source": [
        "len(df)"
      ]
    },
    {
      "cell_type": "code",
      "execution_count": null,
      "metadata": {
        "id": "lI6m2FAB1Weh"
      },
      "outputs": [],
      "source": [
        "#dtypes of the columns\n",
        "df.dtypes"
      ]
    },
    {
      "cell_type": "code",
      "execution_count": null,
      "metadata": {
        "id": "cD3D9b_S1akG"
      },
      "outputs": [],
      "source": [
        "#converting trans_date_trans_time into datetime\n",
        "df['trans_date_trans_time'] = pd.to_datetime(df['trans_date_trans_time'])\n",
        "print(df.dtypes['trans_date_trans_time'])\n"
      ]
    },
    {
      "cell_type": "code",
      "execution_count": null,
      "metadata": {
        "id": "YSMziRWk1hER"
      },
      "outputs": [],
      "source": [
        "# deriving additonal columns from 'trans_date_trans_time'\n",
        "#deriving hour\n",
        "df['trans_hour'] = df['trans_date_trans_time'].dt.hour\n",
        "#deriving 'day of the week\n",
        "df['trans_day_of_week'] = df['trans_date_trans_time'].dt.dayofweek + 1\n",
        "df['trans_day_of_week'] = df['trans_day_of_week'].astype(int)\n",
        "#deriving 'year_month'\n",
        "df['trans_year_month'] = df['trans_date_trans_time'].dt.to_period('M')"
      ]
    },
    {
      "cell_type": "code",
      "execution_count": null,
      "metadata": {
        "id": "MyfBGcQJ1qVZ"
      },
      "outputs": [],
      "source": [
        "#converting data types that should be categorical into \"category\"\n",
        "\n",
        "df['category'] = df['category'].astype('category')\n",
        "df['gender'] = df['gender'].astype('category')\n",
        "df['is_fraud'] = df['is_fraud'].astype('category')"
      ]
    },
    {
      "cell_type": "code",
      "execution_count": null,
      "metadata": {
        "id": "feM_9wpJ11IC"
      },
      "outputs": [],
      "source": [
        "df.dtypes"
      ]
    },
    {
      "cell_type": "code",
      "execution_count": null,
      "metadata": {
        "id": "GudC6smZ16H6"
      },
      "outputs": [],
      "source": [
        "#dropping variables which are not usefull for the Visualization and analytics\n",
        "df.drop(['trans_date_trans_time','first', 'last', 'dob',] , axis=1, inplace=True)"
      ]
    },
    {
      "cell_type": "code",
      "execution_count": null,
      "metadata": {
        "id": "Cc52H-uk1-51"
      },
      "outputs": [],
      "source": [
        "df.info()"
      ]
    },
    {
      "cell_type": "code",
      "execution_count": null,
      "metadata": {
        "id": "qM1yD7eo2FpM"
      },
      "outputs": [],
      "source": [
        "#let us look at the number of unique values in the dataset\n",
        "df.nunique()"
      ]
    },
    {
      "cell_type": "code",
      "execution_count": null,
      "metadata": {
        "id": "naQ-8kjn2Nw3"
      },
      "outputs": [],
      "source": [
        "df.sample()"
      ]
    },
    {
      "cell_type": "code",
      "execution_count": null,
      "metadata": {
        "id": "9j3E1Wv72RFQ"
      },
      "outputs": [],
      "source": [
        "#determing the shape of the dataset\n",
        "df.shape"
      ]
    },
    {
      "cell_type": "code",
      "execution_count": null,
      "metadata": {
        "id": "P1Sr1b_D2V_U"
      },
      "outputs": [],
      "source": [
        "df.columns"
      ]
    },
    {
      "cell_type": "code",
      "execution_count": null,
      "metadata": {
        "id": "JpdW6TsK2bcj"
      },
      "outputs": [],
      "source": [
        "#describing the dataset\n",
        "df.describe()"
      ]
    },
    {
      "cell_type": "code",
      "execution_count": null,
      "metadata": {
        "id": "b2tqPrOM2f74"
      },
      "outputs": [],
      "source": [
        "# checking the number of missing values in each column\n",
        "df.isnull().sum()"
      ]
    },
    {
      "cell_type": "code",
      "execution_count": null,
      "metadata": {
        "id": "Ch35KvPk2sSN"
      },
      "outputs": [],
      "source": [
        "# distribution of legit transactions & fraudulent transactions\n",
        "df['is_fraud'].value_counts()"
      ]
    },
    {
      "cell_type": "code",
      "execution_count": null,
      "metadata": {
        "id": "2wrgzwir23ht"
      },
      "outputs": [],
      "source": [
        "#plotting the above distributions\n",
        "fig = plt.subplots(figsize=(15,10))\n",
        "\n",
        "plots = []\n",
        "#plotting the amt feature\n",
        "\n",
        "#distribution plots\n",
        "plots.append(sns.histplot(df[df.amt <= 1500].amt, bins=50, ax=plt.subplot(234)))\n",
        "plots.append(sns.histplot(df[(df.is_fraud==0) & (df.amt<=1500)].amt, bins=50, ax=plt.subplot(235)))\n",
        "plots.append(sns.histplot(df[(df.is_fraud==1) & (df.amt<=1500)].amt, bins=50, ax=plt.subplot(236)))\n",
        "\n",
        "#setting titles\n",
        "plots[0].set_title('Overall Amount Distribution')\n",
        "plots[1].set_title('Non Fraud Amount Distribution')\n",
        "plots[2].set_title('Fraud Amount Distribution')\n",
        "\n",
        "#setting x labels\n",
        "plots[0].set_xlabel('Transaction Amount')\n",
        "plots[1].set_xlabel('Transaction Amount')\n",
        "plots[2].set_xlabel('Transaction Amount')\n",
        "\n",
        "#setting y label\n",
        "plots[0].set_ylabel('Number of transactions')\n",
        "\n",
        "plt.show()\n",
        "\n"
      ]
    },
    {
      "cell_type": "code",
      "execution_count": null,
      "metadata": {
        "id": "myv0pv1v25A3"
      },
      "outputs": [],
      "source": [
        "#year_month vs number of transactions\n",
        "df_timeline01 = df.groupby(df['trans_year_month'])[['trans_num','cc_num']].nunique().reset_index()\n",
        "df_timeline01.columns = ['year_month','num_of_transactions','customers']\n",
        "df_timeline01"
      ]
    },
    {
      "cell_type": "code",
      "execution_count": null,
      "metadata": {
        "id": "8DIEnY-V29ss"
      },
      "outputs": [],
      "source": [
        "# Set up the plot for is_fraud = 1\n",
        "fig, ax1 = plt.subplots(figsize=(14, 8))\n",
        "\n",
        "# Get the order of states by their count in descending order\n",
        "state_order = df[df['is_fraud'] == 1]['state'].value_counts().index\n",
        "\n",
        "# Plotting the count of each state for is_fraud = 1\n",
        "plot1 = sns.countplot(x='state', data=df[df['is_fraud'] == 1], order=state_order, palette='Set2', ax=ax1)\n",
        "plot1.set_xticklabels(plot1.get_xticklabels(), rotation=90)\n",
        "\n",
        "ax1.set_title('Transaction Count by State in a fraudulent transaction (Descending Order)')\n",
        "\n",
        "# Show the plot for is_fraud = 1\n",
        "plt.show()"
      ]
    },
    {
      "cell_type": "code",
      "execution_count": null,
      "metadata": {
        "id": "MxYiO0af3CWI"
      },
      "outputs": [],
      "source": [
        "# Calculate fraud ratios for all states\n",
        "fraud_ratios = []\n",
        "\n",
        "for state in df['state'].unique():\n",
        "    total_count = df[df['state'] == state].shape[0]\n",
        "    fraud_count = df[(df['state'] == state) & (df['is_fraud'] == 1)].shape[0]\n",
        "    ratio = fraud_count / total_count if total_count > 0 else 0\n",
        "    fraud_ratios.append({'State': state, 'Fraud Ratio': ratio, 'Total Transactions': total_count})\n",
        "\n",
        "# Create a DataFrame from the list of dictionaries\n",
        "fraud_ratio_df = pd.DataFrame(fraud_ratios)\n",
        "\n",
        "# Print the DataFrame\n",
        "print(fraud_ratio_df)"
      ]
    },
    {
      "cell_type": "code",
      "execution_count": null,
      "metadata": {
        "id": "LEZiV1r53MXg"
      },
      "outputs": [],
      "source": [
        "sns.countplot(x='is_fraud', data = df)\n",
        "plt.title('Number of fraud vs non-fraud transcations')\n",
        "plt.show()"
      ]
    },
    {
      "cell_type": "code",
      "execution_count": null,
      "metadata": {
        "id": "gzpGAYTR3b9-"
      },
      "outputs": [],
      "source": [
        "# separating the data for analysis\n",
        "legit = df[df.is_fraud == 0]\n",
        "fraud = df[df.is_fraud == 1]"
      ]
    },
    {
      "cell_type": "code",
      "execution_count": null,
      "metadata": {
        "id": "vilt-RCd3kML"
      },
      "outputs": [],
      "source": [
        "print(legit.shape)\n",
        "print(fraud.shape)"
      ]
    },
    {
      "cell_type": "code",
      "execution_count": null,
      "metadata": {
        "id": "JjzLP73s3ouE"
      },
      "outputs": [],
      "source": [
        "fraud['is_fraud'].value_counts()"
      ]
    },
    {
      "cell_type": "code",
      "execution_count": null,
      "metadata": {
        "id": "wEKaDlh-3r5F"
      },
      "outputs": [],
      "source": [
        "legit['is_fraud'].value_counts()"
      ]
    },
    {
      "cell_type": "code",
      "execution_count": null,
      "metadata": {
        "id": "Jf2GJVGw3vsQ"
      },
      "outputs": [],
      "source": [
        "fnew = legit.sample(n=6006)"
      ]
    },
    {
      "cell_type": "code",
      "execution_count": null,
      "metadata": {
        "id": "zWAZZqT_31fG"
      },
      "outputs": [],
      "source": [
        "d_new = pd.concat([fnew, fraud], axis=0)"
      ]
    },
    {
      "cell_type": "code",
      "execution_count": null,
      "metadata": {
        "id": "jdDbbIoH38pY"
      },
      "outputs": [],
      "source": [
        "d_new['is_fraud'].value_counts()"
      ]
    },
    {
      "cell_type": "code",
      "execution_count": null,
      "metadata": {
        "id": "j75jlo254AVG"
      },
      "outputs": [],
      "source": [
        "d_new.shape"
      ]
    },
    {
      "cell_type": "code",
      "execution_count": null,
      "metadata": {
        "id": "IL199P6S4FZT"
      },
      "outputs": [],
      "source": [
        "sns.countplot(x='is_fraud', data = d_new)\n",
        "plt.title('Number of fraud vs non-fraud transcations')\n",
        "plt.show()"
      ]
    },
    {
      "cell_type": "code",
      "execution_count": null,
      "metadata": {
        "id": "BDUjXOKG4KZE"
      },
      "outputs": [],
      "source": [
        "X =  [ 'amt', 'gender','lat', 'long', 'city_pop',  'trans_hour','trans_day_of_week','is_fraud']\n",
        "d_new= pd.get_dummies(d_new[X], drop_first=True)\n",
        "predictors =  [ 'amt',  'city_pop', 'trans_hour', 'gender_M','lat', 'long','trans_day_of_week']"
      ]
    },
    {
      "cell_type": "code",
      "execution_count": null,
      "metadata": {
        "id": "Kr09amko4Uhn"
      },
      "outputs": [],
      "source": [
        "# partition data\n",
        "X = d_new[predictors]\n",
        "Y = d_new[ 'is_fraud_1']"
      ]
    },
    {
      "cell_type": "code",
      "execution_count": null,
      "metadata": {
        "id": "F-_WE9wT4Xzv"
      },
      "outputs": [],
      "source": [
        "# Splitting data into train and test set 80:20\n",
        "X_train, X_test, Y_train, Y_test = train_test_split(X, Y, train_size=0.8, test_size=0.2, random_state=100)"
      ]
    },
    {
      "cell_type": "code",
      "execution_count": null,
      "metadata": {
        "id": "Kxe7c7gI4a7w"
      },
      "outputs": [],
      "source": [
        "print(X.shape, X_train.shape, X_test.shape)\n"
      ]
    },
    {
      "cell_type": "code",
      "execution_count": null,
      "metadata": {
        "id": "A2E6VLcL4lAA"
      },
      "outputs": [],
      "source": [
        "print(X)"
      ]
    },
    {
      "cell_type": "code",
      "execution_count": null,
      "metadata": {
        "id": "G074_b654ocq"
      },
      "outputs": [],
      "source": [
        "# Impoting metrics\n",
        "from sklearn import metrics\n",
        "from sklearn.metrics import confusion_matrix, ConfusionMatrixDisplay, classification_report, f1_score, precision_score, recall_score\n",
        "results = pd.DataFrame(columns=['Model Name', 'Accuracy', 'F1-score', 'ROC','precision','recall'])"
      ]
    },
    {
      "cell_type": "code",
      "execution_count": null,
      "metadata": {
        "id": "4T5McJlf4smj"
      },
      "outputs": [],
      "source": [
        "# ROC Curve function\n",
        "\n",
        "def draw_roc( actual, probs ):\n",
        "    fpr, tpr, thresholds = metrics.roc_curve( actual, probs,\n",
        "                                              drop_intermediate = False )\n",
        "    auc_score = metrics.roc_auc_score( actual, probs )\n",
        "    plt.figure(figsize=(5, 5))\n",
        "    plt.plot( fpr, tpr, label='ROC curve (area = %0.2f)' % auc_score )\n",
        "    plt.plot([0, 1], [0, 1], 'k--')\n",
        "    plt.xlim([0.0, 1.0])\n",
        "    plt.ylim([0.0, 1.05])\n",
        "    plt.xlabel('False Positive Rate or [1 - True Negative Rate]')\n",
        "    plt.ylabel('True Positive Rate')\n",
        "    plt.title('Receiver operating characteristic example')\n",
        "    plt.legend(loc=\"lower right\")\n",
        "    plt.show()\n",
        "\n",
        "    return None"
      ]
    },
    {
      "cell_type": "code",
      "execution_count": null,
      "metadata": {
        "id": "HWwub_9_4v39"
      },
      "outputs": [],
      "source": [
        "# Importing scikit logistic regression module\n",
        "from sklearn.linear_model import LogisticRegression"
      ]
    },
    {
      "cell_type": "code",
      "execution_count": null,
      "metadata": {
        "id": "GyYnniwx4ykf"
      },
      "outputs": [],
      "source": [
        "# Instantiate the model with best C\n",
        "logistic = LogisticRegression(C=0.01)"
      ]
    },
    {
      "cell_type": "code",
      "execution_count": null,
      "metadata": {
        "id": "9rl6a-0l41GW"
      },
      "outputs": [],
      "source": [
        "# Fit the model on the train set\n",
        "logistic_model = logistic.fit(X_train, Y_train)"
      ]
    },
    {
      "cell_type": "code",
      "execution_count": null,
      "metadata": {
        "id": "xdxA2RuV43mB"
      },
      "outputs": [],
      "source": [
        "# Prepare results function\n",
        "def display_test_results(model_name, model):\n",
        "\n",
        "    # Prediction on the test set\n",
        "    Y_test_pred = model.predict(X_test)\n",
        "\n",
        "    # Confusion matrix\n",
        "    print(\"------------------ Confusion Matrix --------------------\")\n",
        "    c_matrix = metrics.confusion_matrix(Y_test, Y_test_pred)\n",
        "    print(c_matrix)\n",
        "\n",
        "    cm_display = ConfusionMatrixDisplay(confusion_matrix=c_matrix)\n",
        "    cm_display.plot(cmap=plt.cm.Blues)\n",
        "    plt.show()\n",
        "\n",
        "\n",
        "    # classification_report\n",
        "    print(\"------------------ classification_report --------------------\")\n",
        "    print(classification_report(Y_test, Y_test_pred))\n",
        "\n",
        "    print(\"------------------ More Specific classification_report --------------------\")\n",
        "    TP = c_matrix[1,1] # true positive\n",
        "    TN = c_matrix[0,0] # true negatives\n",
        "    FP = c_matrix[0,1] # false positives\n",
        "    FN = c_matrix[1,0] # false negatives\n",
        "\n",
        "    # Accuracy\n",
        "    print(\"Accuracy:-\",metrics.accuracy_score(Y_test, Y_test_pred))\n",
        "\n",
        "    # Sensitivity\n",
        "    print(\"Sensitivity:-\",TP / float(TP+FN))\n",
        "\n",
        "    # Specificity\n",
        "    print(\"Specificity:-\", TN / float(TN+FP))\n",
        "\n",
        "    # F1 score\n",
        "    print(\"F1-Score:-\", f1_score(Y_test, Y_test_pred))\n",
        "\n",
        "    # Predicted probability\n",
        "    Y_test_pred_proba = model.predict_proba(X_test)[:,1]\n",
        "\n",
        "    # roc_auc\n",
        "    print(\"------------------ ROC --------------------\")\n",
        "    roc_auc = metrics.roc_auc_score(Y_test, Y_test_pred_proba)\n",
        "\n",
        "    # Plot the ROC curve\n",
        "    draw_roc(Y_test, Y_test_pred_proba)\n",
        "\n",
        "       # add all metrics score in final result store\n",
        "    results.loc[len(results)] = [model_name, metrics.accuracy_score(Y_test, Y_test_pred), f1_score(Y_test, Y_test_pred), precision_score(Y_test, Y_test_pred),\n",
        "    recall_score(Y_test, Y_test_pred),roc_auc]\n",
        "\n",
        "    return None"
      ]
    },
    {
      "cell_type": "code",
      "execution_count": null,
      "metadata": {
        "id": "sz7I_K5n46aC"
      },
      "outputs": [],
      "source": [
        "display_test_results(\"Logistic Regression\", logistic_model)"
      ]
    },
    {
      "cell_type": "code",
      "execution_count": null,
      "metadata": {
        "id": "09f-Nwvu49jo"
      },
      "outputs": [],
      "source": [
        "# Importing random forest classifier\n",
        "from sklearn.ensemble import RandomForestClassifier"
      ]
    },
    {
      "cell_type": "code",
      "execution_count": null,
      "metadata": {
        "id": "rKsbqgVb5Bsd"
      },
      "outputs": [],
      "source": [
        "random_forest_model = RandomForestClassifier(bootstrap=True,\n",
        "                             max_depth=5,\n",
        "                             min_samples_leaf=50,\n",
        "                             min_samples_split=50,\n",
        "                             max_features=10,\n",
        "                             n_estimators=100)"
      ]
    },
    {
      "cell_type": "code",
      "execution_count": null,
      "metadata": {
        "id": "CWMfH5X45KIT"
      },
      "outputs": [],
      "source": [
        "# Fit the model\n",
        "random_forest_model.fit(X_train, Y_train)"
      ]
    },
    {
      "cell_type": "code",
      "execution_count": null,
      "metadata": {
        "id": "YJ80NuOv5MSr"
      },
      "outputs": [],
      "source": [
        "display_test_results(\"Random Forest\", random_forest_model)"
      ]
    },
    {
      "cell_type": "code",
      "execution_count": null,
      "metadata": {
        "id": "B0M-vGRk5QR7"
      },
      "outputs": [],
      "source": [
        "# Importing decision tree classifier\n",
        "from sklearn.tree import DecisionTreeClassifier"
      ]
    },
    {
      "cell_type": "code",
      "execution_count": null,
      "metadata": {
        "id": "PB5pnL3x5Vrf"
      },
      "outputs": [],
      "source": [
        "# Model with optimal hyperparameters\n",
        "decision_tree_model = DecisionTreeClassifier(criterion = \"gini\",\n",
        "                                  random_state = 100,\n",
        "                                  max_depth=5,\n",
        "                                  min_samples_leaf=100,\n",
        "                                  min_samples_split=100)\n",
        "\n",
        "decision_tree_model.fit(X_train, Y_train)"
      ]
    },
    {
      "cell_type": "code",
      "execution_count": null,
      "metadata": {
        "id": "TkKo72WW5ai1"
      },
      "outputs": [],
      "source": [
        "display_test_results(\"Decision Tree\", decision_tree_model)"
      ]
    },
    {
      "cell_type": "code",
      "execution_count": null,
      "metadata": {
        "id": "x2vqdM2v5fgT"
      },
      "outputs": [],
      "source": [
        "results.sort_values(by=\"ROC\", ascending=False)"
      ]
    },
    {
      "cell_type": "code",
      "execution_count": null,
      "metadata": {
        "id": "Hazim9w_Dv7e"
      },
      "outputs": [],
      "source": [
        "# Function to predict if a new transaction is fraud or not based on user input\n",
        "def predict_fraud(amt, gender, lat, long, city_pop, trans_hour, trans_day_of_week):\n",
        "    # Convert gender to numerical value, assuming \"M\" = 1 and \"F\" = 0\n",
        "    gender_M = 1 if gender.lower() == \"m\" else 0\n",
        "\n",
        "    # Create an input data array with all the required features\n",
        "    input_data = np.array([[amt, city_pop, trans_hour, gender_M, lat, long, trans_day_of_week]])\n",
        "\n",
        "    # Predict using the logistic regression model\n",
        "    prediction = logistic_model.predict(input_data)\n",
        "    prediction_proba = logistic_model.predict_proba(input_data)[0][1]  # Probability of fraud\n",
        "\n",
        "    # Display the result\n",
        "    if prediction[0] == 1:\n",
        "        print(f\"The transaction is likely to be FRAUDULENT with a probability of {prediction_proba:.2f}\")\n",
        "    else:\n",
        "        print(f\"The transaction is likely to be LEGITIMATE with a probability of {1 - prediction_proba:.2f}\")\n",
        "\n",
        "# Example user input for testing\n",
        "# Note: Replace these values with real user input in a production setting\n",
        "amt = float(input(\"Enter transaction amount: \"))\n",
        "gender = input(\"Enter gender (M/F): \")\n",
        "lat = float(input(\"Enter latitude: \"))\n",
        "long = float(input(\"Enter longitude: \"))\n",
        "city_pop = int(input(\"Enter city population: \"))\n",
        "trans_hour = int(input(\"Enter transaction hour (0-23): \"))\n",
        "trans_day_of_week = int(input(\"Enter transaction day of week (1=Monday, 7=Sunday): \"))\n",
        "\n",
        "# Predict fraud based on input data\n",
        "predict_fraud(amt, gender, lat, long, city_pop, trans_hour, trans_day_of_week)"
      ]
    }
  ],
  "metadata": {
    "colab": {
      "provenance": []
    },
    "kernelspec": {
      "display_name": "Python 3",
      "name": "python3"
    }
  },
  "nbformat": 4,
  "nbformat_minor": 0
}